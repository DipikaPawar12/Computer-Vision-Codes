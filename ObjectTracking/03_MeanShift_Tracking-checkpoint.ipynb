{
 "cells": [
  {
   "cell_type": "markdown",
   "metadata": {},
   "source": [
    "### Import Libraries"
   ]
  },
  {
   "cell_type": "code",
   "execution_count": 1,
   "metadata": {},
   "outputs": [],
   "source": [
    "import numpy as np\n",
    "import cv2\n",
    "import matplotlib.pyplot as plt\n"
   ]
  },
  {
   "cell_type": "markdown",
   "metadata": {},
   "source": [
    "### Capture Video Stream"
   ]
  },
  {
   "cell_type": "code",
   "execution_count": 2,
   "metadata": {},
   "outputs": [],
   "source": [
    "cap = cv2.VideoCapture('Video/face_track.mp4')"
   ]
  },
  {
   "cell_type": "markdown",
   "metadata": {},
   "source": [
    "### Take first frame of the video"
   ]
  },
  {
   "cell_type": "code",
   "execution_count": 3,
   "metadata": {},
   "outputs": [],
   "source": [
    "re, frame = cap.read()"
   ]
  },
  {
   "cell_type": "markdown",
   "metadata": {},
   "source": [
    "### Set up the initial tracking window"
   ]
  },
  {
   "cell_type": "code",
   "execution_count": 5,
   "metadata": {},
   "outputs": [],
   "source": [
    "face_casc = cv2.CascadeClassifier('Haarcascades/haarcascade_frontalface_default.xml')\n",
    "face_rects = face_casc.detectMultiScale(frame)"
   ]
  },
  {
   "cell_type": "markdown",
   "metadata": {},
   "source": [
    "### Convert the list to a tuple"
   ]
  },
  {
   "cell_type": "code",
   "execution_count": 6,
   "metadata": {},
   "outputs": [],
   "source": [
    "face_x, face_y, w,h = tuple(face_rects[0])\n",
    "track_window = (face_x, face_y, w,h)"
   ]
  },
  {
   "cell_type": "markdown",
   "metadata": {},
   "source": [
    "### set up the ROI for tracking"
   ]
  },
  {
   "cell_type": "code",
   "execution_count": 7,
   "metadata": {},
   "outputs": [],
   "source": [
    "roi= frame[face_y:face_y+h,\n",
    "          face_x:face_x+w]"
   ]
  },
  {
   "cell_type": "markdown",
   "metadata": {},
   "source": [
    "### HSV color maping"
   ]
  },
  {
   "cell_type": "code",
   "execution_count": 8,
   "metadata": {},
   "outputs": [],
   "source": [
    "hsv_roi = cv2.cvtColor(roi, cv2.COLOR_BGR2HSV)"
   ]
  },
  {
   "cell_type": "markdown",
   "metadata": {},
   "source": [
    "### Histogram to target on each frame for the meanshift calculation"
   ]
  },
  {
   "cell_type": "code",
   "execution_count": 10,
   "metadata": {},
   "outputs": [],
   "source": [
    "roi_hist = cv2.calcHist([hsv_roi],\n",
    "                       [0],\n",
    "                       None,\n",
    "                       [180],\n",
    "                       [0,180])"
   ]
  },
  {
   "cell_type": "markdown",
   "metadata": {},
   "source": [
    "### Normalize the histogram"
   ]
  },
  {
   "cell_type": "code",
   "execution_count": 11,
   "metadata": {},
   "outputs": [],
   "source": [
    "cv2.normalize(roi_hist,\n",
    "             roi_hist,\n",
    "             0,\n",
    "             255,\n",
    "             cv2.NORM_MINMAX);"
   ]
  },
  {
   "cell_type": "markdown",
   "metadata": {},
   "source": [
    "### Set the termination criteria\n",
    "10 iterations or move 1 pt"
   ]
  },
  {
   "cell_type": "code",
   "execution_count": 12,
   "metadata": {},
   "outputs": [],
   "source": [
    "term_crit = (cv2.TERM_CRITERIA_EPS | cv2.TERM_CRITERIA_COUNT, 10, 1)"
   ]
  },
  {
   "cell_type": "markdown",
   "metadata": {},
   "source": [
    "### It's a Kind of Magic"
   ]
  },
  {
   "cell_type": "code",
   "execution_count": 14,
   "metadata": {},
   "outputs": [],
   "source": [
    "# While loop\n",
    "while True:\n",
    "    \n",
    "\n",
    "    # capture video\n",
    "    ret,frame = cap.read()\n",
    "    \n",
    "    # if statement\n",
    "    if ret ==True:\n",
    "    \n",
    "        # Frame in HSV\n",
    "        hsv = cv2.cvtColor(frame,\n",
    "                          cv2.COLOR_BGR2HSV)\n",
    "        \n",
    "        # Calculate the base of ROI\n",
    "        dest_roi = cv2.calcBackProject([hsv],\n",
    "                                      [0],\n",
    "                                      roi_hist,\n",
    "                                      [0,180],\n",
    "                                      1)\n",
    "        \n",
    "        # Meanshift to get the new coordinates of rectangle\n",
    "        ret, track_window = cv2.meanShift(dest_roi,\n",
    "                                         track_window,\n",
    "                                         term_crit)\n",
    "        \n",
    "        # Draw new rectangle on image\n",
    "        x,y,w,h = track_window\n",
    "        \n",
    "        # Open new window and display\n",
    "        img2=cv2.rectangle(frame, (x,y),\n",
    "                           (x+w,y+h),\n",
    "                           (255,255,0),\n",
    "                           3)\n",
    "        cv2.imshow('FaceTracker', img2)\n",
    "        # Close window\n",
    "        if cv2.waitKey(50) & 0xFF ==27:\n",
    "            break\n",
    "        \n",
    "    # else statement\n",
    "    else:\n",
    "        break\n",
    "    \n",
    "# Release and Destroy\n",
    "cap.release()\n",
    "cv2.destroyAllWindows()\n",
    "\n"
   ]
  },
  {
   "cell_type": "code",
   "execution_count": null,
   "metadata": {},
   "outputs": [],
   "source": []
  },
  {
   "cell_type": "code",
   "execution_count": null,
   "metadata": {},
   "outputs": [],
   "source": []
  },
  {
   "cell_type": "code",
   "execution_count": null,
   "metadata": {},
   "outputs": [],
   "source": []
  },
  {
   "cell_type": "code",
   "execution_count": null,
   "metadata": {},
   "outputs": [],
   "source": []
  }
 ],
 "metadata": {
  "kernelspec": {
   "display_name": "Python 3",
   "language": "python",
   "name": "python3"
  },
  "language_info": {
   "codemirror_mode": {
    "name": "ipython",
    "version": 3
   },
   "file_extension": ".py",
   "mimetype": "text/x-python",
   "name": "python",
   "nbconvert_exporter": "python",
   "pygments_lexer": "ipython3",
   "version": "3.7.4"
  }
 },
 "nbformat": 4,
 "nbformat_minor": 2
}
