{
 "cells": [
  {
   "cell_type": "markdown",
   "metadata": {},
   "source": [
    "### Import Libraries"
   ]
  },
  {
   "cell_type": "code",
   "execution_count": 3,
   "metadata": {},
   "outputs": [],
   "source": [
    "import cv2"
   ]
  },
  {
   "cell_type": "markdown",
   "metadata": {},
   "source": [
    "### Define our tracker"
   ]
  },
  {
   "cell_type": "code",
   "execution_count": 4,
   "metadata": {},
   "outputs": [],
   "source": [
    "def  ask_tracker():\n",
    "    print('Hi, what tracker PAI would you like')\n",
    "    print('Enter 0 for boosting:')\n",
    "    print('Enter 1 for MIL:')\n",
    "    print('enter 2 for KCF:')\n",
    "    print('enter 3 for TLD:')\n",
    "    print('enter 4 for MEDIANFLOW:')\n",
    "    print('enter 5 for GOTURN:')\n",
    "    print('enter 6 for MOSS:')\n",
    "    print('enter 7 for CSRT:')\n",
    "    \n",
    "    choice = input('Please select your tracker:')\n",
    "    \n",
    "    if choice =='0':\n",
    "        tracker = cv2.TrackerBoosting_create()\n",
    "    if choice =='1':\n",
    "        tracker = cv2.TrackerMIL_create()\n",
    "    if choice =='2':\n",
    "        tracker = cv2.TrackerKCF_create()\n",
    "    if choice =='3':\n",
    "        tracker = cv2.TrackerTLD_create()\n",
    "    if choice =='4':\n",
    "        tracker = cv2.TrackerMedianFlow_create()\n",
    "    if choice =='5':\n",
    "        tracker = cv2.TrackerGOTURN_create()\n",
    "    if choice =='6':\n",
    "        tracker = cv2.TrackerMOSSE_create()\n",
    "    if choice =='7':\n",
    "        tracker = cv2.TrackerCSRT_create()\n",
    "        \n",
    "    return tracker"
   ]
  },
  {
   "cell_type": "markdown",
   "metadata": {},
   "source": [
    "### It's a Kind of Magic"
   ]
  },
  {
   "cell_type": "code",
   "execution_count": 6,
   "metadata": {},
   "outputs": [
    {
     "name": "stdout",
     "output_type": "stream",
     "text": [
      "Hi, what tracker PAI would you like\n",
      "Enter 0 for boosting:\n",
      "Enter 1 for MIL:\n",
      "enter 2 for KCF:\n",
      "enter 3 for TLD:\n",
      "enter 4 for MEDIANFLOW:\n",
      "enter 5 for GOTURN:\n",
      "enter 6 for MOSS:\n",
      "enter 7 for CSRT:\n",
      "Please select your tracker:7\n"
     ]
    },
    {
     "ename": "AttributeError",
     "evalue": "module 'cv2.cv2' has no attribute 'TrackerCSRT_create'",
     "output_type": "error",
     "traceback": [
      "\u001b[1;31m---------------------------------------------------------------------------\u001b[0m",
      "\u001b[1;31mAttributeError\u001b[0m                            Traceback (most recent call last)",
      "\u001b[1;32m<ipython-input-6-ec988efc9e2d>\u001b[0m in \u001b[0;36m<module>\u001b[1;34m\u001b[0m\n\u001b[0;32m      1\u001b[0m \u001b[1;31m# Tracker\u001b[0m\u001b[1;33m\u001b[0m\u001b[1;33m\u001b[0m\u001b[1;33m\u001b[0m\u001b[0m\n\u001b[1;32m----> 2\u001b[1;33m \u001b[0mtracker\u001b[0m \u001b[1;33m=\u001b[0m \u001b[0mask_tracker\u001b[0m\u001b[1;33m(\u001b[0m\u001b[1;33m)\u001b[0m\u001b[1;33m\u001b[0m\u001b[1;33m\u001b[0m\u001b[0m\n\u001b[0m\u001b[0;32m      3\u001b[0m \u001b[1;33m\u001b[0m\u001b[0m\n\u001b[0;32m      4\u001b[0m \u001b[1;31m# Tracker name\u001b[0m\u001b[1;33m\u001b[0m\u001b[1;33m\u001b[0m\u001b[1;33m\u001b[0m\u001b[0m\n\u001b[0;32m      5\u001b[0m \u001b[0mtracker_name\u001b[0m \u001b[1;33m=\u001b[0m \u001b[0mstr\u001b[0m\u001b[1;33m(\u001b[0m\u001b[0mtracker\u001b[0m\u001b[1;33m)\u001b[0m\u001b[1;33m.\u001b[0m\u001b[0msplit\u001b[0m\u001b[1;33m(\u001b[0m\u001b[1;33m)\u001b[0m\u001b[1;33m[\u001b[0m\u001b[1;36m0\u001b[0m\u001b[1;33m]\u001b[0m\u001b[1;33m[\u001b[0m\u001b[1;36m1\u001b[0m\u001b[1;33m:\u001b[0m\u001b[1;33m]\u001b[0m\u001b[1;33m\u001b[0m\u001b[1;33m\u001b[0m\u001b[0m\n",
      "\u001b[1;32m<ipython-input-4-f2ed32624e23>\u001b[0m in \u001b[0;36mask_tracker\u001b[1;34m()\u001b[0m\n\u001b[0;32m     27\u001b[0m         \u001b[0mtracker\u001b[0m \u001b[1;33m=\u001b[0m \u001b[0mcv2\u001b[0m\u001b[1;33m.\u001b[0m\u001b[0mTrackerMOSSE_create\u001b[0m\u001b[1;33m(\u001b[0m\u001b[1;33m)\u001b[0m\u001b[1;33m\u001b[0m\u001b[1;33m\u001b[0m\u001b[0m\n\u001b[0;32m     28\u001b[0m     \u001b[1;32mif\u001b[0m \u001b[0mchoice\u001b[0m \u001b[1;33m==\u001b[0m\u001b[1;34m'7'\u001b[0m\u001b[1;33m:\u001b[0m\u001b[1;33m\u001b[0m\u001b[1;33m\u001b[0m\u001b[0m\n\u001b[1;32m---> 29\u001b[1;33m         \u001b[0mtracker\u001b[0m \u001b[1;33m=\u001b[0m \u001b[0mcv2\u001b[0m\u001b[1;33m.\u001b[0m\u001b[0mTrackerCSRT_create\u001b[0m\u001b[1;33m(\u001b[0m\u001b[1;33m)\u001b[0m\u001b[1;33m\u001b[0m\u001b[1;33m\u001b[0m\u001b[0m\n\u001b[0m\u001b[0;32m     30\u001b[0m \u001b[1;33m\u001b[0m\u001b[0m\n\u001b[0;32m     31\u001b[0m     \u001b[1;32mreturn\u001b[0m \u001b[0mtracker\u001b[0m\u001b[1;33m\u001b[0m\u001b[1;33m\u001b[0m\u001b[0m\n",
      "\u001b[1;31mAttributeError\u001b[0m: module 'cv2.cv2' has no attribute 'TrackerCSRT_create'"
     ]
    }
   ],
   "source": [
    "# Tracker\n",
    "tracker = ask_tracker()\n",
    "\n",
    "# Tracker name\n",
    "tracker_name = str(tracker).split()[0][1:]\n",
    "\n",
    "# Capture the Video\n",
    "cap = cv2.VideoCapture('Video/Vehicles.mp4')\n",
    "\n",
    "# Read the first frame\n",
    "ret, frame = cap.read()\n",
    "\n",
    "# Select our ROI\n",
    "roi = cv2.selectROI(frame, False)\n",
    "\n",
    "# Initialize tracker\n",
    "ret = tracker.init(frame, roi)\n",
    "\n",
    "\n",
    "# while Loop\n",
    "while True:\n",
    "\n",
    "    # Read the capture\n",
    "    ret, frme = cap.read()\n",
    "    \n",
    "    # update tracker\n",
    "    success, roi  =tracker.update(frame)\n",
    "    \n",
    "    # roi -> from tuple to int\n",
    "    (x,y,w,h) = tuple(map(int,roi))\n",
    "    \n",
    "    # Draw rects as tracker moves\n",
    "    if success:\n",
    "        \n",
    "        # Sucess on tracking\n",
    "        pts1=(x,y)\n",
    "        pts2=(x+w,y+h)\n",
    "        cv2.rectangle(frame,\n",
    "                     pts1,\n",
    "                     pts2,\n",
    "                     (255,125,25),\n",
    "                     3)\n",
    "    # else\n",
    "    else:\n",
    "    \n",
    "        # Failure on tracking\n",
    "        cv2.putText(frame,\n",
    "                   'Fail to track the object',\n",
    "                   (100,200),\n",
    "                   cv.FONT_HERSHEY_SIMPLEX,\n",
    "                   1,\n",
    "                   (25,125,255),\n",
    "                   3)\n",
    "        \n",
    "    # Display Tracker\n",
    "    cv2.putText(frame,\n",
    "               tracker_name,\n",
    "               (20,400),\n",
    "               cv2.FONT_HERSHEY_SIMPLEX,\n",
    "               1,\n",
    "               (255,255,0),\n",
    "               3)\n",
    "    cv2.imshow(tracker_name, frame)\n",
    "    # Exit with Esc button\n",
    "        \n",
    "    if cv2.waitKey(50) & 0xFF==27:\n",
    "        break\n",
    "    \n",
    "# Release the Capture & Destroy All Windows\n",
    "\n",
    "cap.release()\n",
    "cv2.destroyAllWindows\n",
    "\n"
   ]
  },
  {
   "cell_type": "code",
   "execution_count": null,
   "metadata": {},
   "outputs": [],
   "source": []
  }
 ],
 "metadata": {
  "kernelspec": {
   "display_name": "Python 3",
   "language": "python",
   "name": "python3"
  },
  "language_info": {
   "codemirror_mode": {
    "name": "ipython",
    "version": 3
   },
   "file_extension": ".py",
   "mimetype": "text/x-python",
   "name": "python",
   "nbconvert_exporter": "python",
   "pygments_lexer": "ipython3",
   "version": "3.7.4"
  }
 },
 "nbformat": 4,
 "nbformat_minor": 2
}
