{
 "cells": [
  {
   "cell_type": "markdown",
   "metadata": {},
   "source": [
    "### Tasks"
   ]
  },
  {
   "cell_type": "markdown",
   "metadata": {},
   "source": [
    "- Face Detection\n",
    "- Eyes Detection\n",
    "- Face & Eyes Detection\n",
    "- Pedestrians Detection\n",
    "- Cars Detection\n",
    "- Car Plate Detection"
   ]
  },
  {
   "cell_type": "markdown",
   "metadata": {},
   "source": [
    "You can Run the cell by:\n",
    "- clicking on the Run button\n",
    "- Shift + Enter (<b>Windows</b>).\n",
    "- Control + Enter (<b>Mac</b>)"
   ]
  },
  {
   "cell_type": "markdown",
   "metadata": {},
   "source": [
    "When we have finished with our Jupyter Notebook we go to:"
   ]
  },
  {
   "cell_type": "markdown",
   "metadata": {},
   "source": [
    "<b>File</b> -> <b>Save and Checkpoint</b> and then"
   ]
  },
  {
   "cell_type": "markdown",
   "metadata": {},
   "source": [
    "<b>File</b> -> <b>Close and Halt</b>"
   ]
  },
  {
   "cell_type": "markdown",
   "metadata": {},
   "source": [
    "### How to Tune Cascade Classifier"
   ]
  },
  {
   "cell_type": "markdown",
   "metadata": {},
   "source": [
    "(https://docs.opencv.org/2.4/modules/objdetect/doc/cascade_classification.html#cascadeclassifier-detectmultiscale)\n",
    "\n",
    "<b>detectMultiscale</b>(input image, <b>Scale Factor</b>, <b>Min Neighbors</b>)\n",
    "- <b>Scale Factor</b> Parameter specifying how much yhe image size is reduced at each image scale.\n",
    "\n",
    "\n",
    "- <b>Min Neighbors</b> Parameter specifying how many neighbors each candidate rectangle should have to retain it."
   ]
  },
  {
   "cell_type": "code",
   "execution_count": null,
   "metadata": {},
   "outputs": [],
   "source": []
  }
 ],
 "metadata": {
  "kernelspec": {
   "display_name": "Python 3",
   "language": "python",
   "name": "python3"
  },
  "language_info": {
   "codemirror_mode": {
    "name": "ipython",
    "version": 3
   },
   "file_extension": ".py",
   "mimetype": "text/x-python",
   "name": "python",
   "nbconvert_exporter": "python",
   "pygments_lexer": "ipython3",
   "version": "3.7.4"
  }
 },
 "nbformat": 4,
 "nbformat_minor": 2
}
